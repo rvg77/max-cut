{
 "cells": [
  {
   "cell_type": "markdown",
   "metadata": {
    "toc": true
   },
   "source": [
    "<h1>Table of Contents<span class=\"tocSkip\"></span></h1>\n",
    "<div class=\"toc\"><ul class=\"toc-item\"></ul></div>"
   ]
  },
  {
   "cell_type": "code",
   "execution_count": 54,
   "metadata": {
    "ExecuteTime": {
     "end_time": "2020-01-05T20:05:50.761726Z",
     "start_time": "2020-01-05T20:05:50.732524Z"
    }
   },
   "outputs": [],
   "source": [
    "import multiprocessing as mp\n",
    "import pickle\n",
    "import sys\n",
    "sys.path.append('..')\n",
    "\n",
    "import time\n",
    "\n",
    "import cvxpy as cvx\n",
    "import networkx as nx\n",
    "\n",
    "import stats_conf\n",
    "from src.models import maxcut\n",
    "from src.visualization import cut_visual"
   ]
  },
  {
   "cell_type": "markdown",
   "metadata": {
    "ExecuteTime": {
     "end_time": "2020-01-05T00:07:49.112111Z",
     "start_time": "2020-01-05T00:07:49.062928Z"
    },
    "code_folding": []
   },
   "source": [
    "```python\n",
    "# Plan\n",
    "ns = [10, 20] # размеры графов\n",
    "m = 100 # количество графов для каждого размера\n",
    "\n",
    "# Regular \n",
    "nx.random_regular_graph(3, n)\n",
    "nx.random_regular_graph(8, n)\n",
    "\n",
    "# Erdos-Renyi\n",
    "nx.gnp_random_graph(n, 1./2)\n",
    "nx.gnp_random_graph(n, 1./4)\n",
    "nx.gnp_random_graph(n, 3./4)\n",
    "\n",
    "# Barabasi-Albert\n",
    "nx.barabasi_albert_graph(n, 4)\n",
    "nx.barabasi_albert_graph(n, n / 2)\n",
    "\n",
    "# Holme and Kim powerlaw\n",
    "nx.powerlaw_cluster_graph(n, 4, 1/3)\n",
    "nx.powerlaw_cluster_graph(n, 4, 2/3)\n",
    "```"
   ]
  },
  {
   "cell_type": "code",
   "execution_count": 2,
   "metadata": {
    "ExecuteTime": {
     "end_time": "2020-01-05T01:38:06.948544Z",
     "start_time": "2020-01-05T01:38:06.917287Z"
    },
    "code_folding": [
     0,
     45
    ]
   },
   "outputs": [],
   "source": [
    "# Workload\n",
    "def generate_graphs(gen, args, m=50):\n",
    "    pool = mp.Pool(mp.cpu_count() - 2)\n",
    "    \n",
    "    Gs = pool.starmap(gen, [args for i in range(m)])\n",
    "    \n",
    "    pool.close()\n",
    "    \n",
    "    return Gs\n",
    "\n",
    "\n",
    "def compute_brute_force(Gs):\n",
    "    pool = mp.Pool(mp.cpu_count() - 2)\n",
    "    \n",
    "    results = pool.map(maxcut.brute_force_max_cut, Gs)\n",
    "    \n",
    "    pool.close()\n",
    "    \n",
    "    return results\n",
    "\n",
    "\n",
    "def compute_gw(Gs):\n",
    "    pool = mp.Pool(mp.cpu_count() - 2)\n",
    "    \n",
    "    results = pool.map(maxcut.SDP_max_cut, Gs)\n",
    "    \n",
    "    pool.close()\n",
    "    \n",
    "    return results\n",
    "\n",
    "\n",
    "def process_test_case(gen, args):\n",
    "    print('Generating graphs...')\n",
    "    Gs = generate_graphs(gen, args)\n",
    "    print('Finished')\n",
    "    print('Brute force...')\n",
    "    brute_results = compute_brute_force(Gs)\n",
    "    print('Finished')\n",
    "    print('SDP...')\n",
    "    gw_results = compute_gw(Gs)\n",
    "    print('Finished')\n",
    "    time.sleep(60)\n",
    "    return brute_results, gw_results\n",
    "\n",
    "\n",
    "def save(obj, name):\n",
    "    with open('./backup/' + name, 'wb') as f:\n",
    "        pickle.dump(obj, f)\n",
    "\n",
    "\n",
    "def load(obj, name):\n",
    "    with open('./backup/' + name, 'rb') as f:\n",
    "        return pickle.load(f)"
   ]
  },
  {
   "cell_type": "code",
   "execution_count": 3,
   "metadata": {
    "ExecuteTime": {
     "end_time": "2020-01-05T02:06:10.774971Z",
     "start_time": "2020-01-05T01:38:06.951906Z"
    },
    "code_folding": [
     0
    ],
    "scrolled": false
   },
   "outputs": [
    {
     "name": "stdout",
     "output_type": "stream",
     "text": [
      "Generating graphs...\n",
      "Finished\n",
      "Brute force...\n",
      "Finished\n",
      "SDP...\n",
      "Finished\n",
      "Generating graphs...\n",
      "Finished\n",
      "Brute force...\n",
      "Finished\n",
      "SDP...\n",
      "Finished\n",
      "Generating graphs...\n",
      "Finished\n",
      "Brute force...\n",
      "Finished\n",
      "SDP...\n",
      "Finished\n",
      "Generating graphs...\n",
      "Finished\n",
      "Brute force...\n",
      "Finished\n",
      "SDP...\n",
      "Finished\n"
     ]
    }
   ],
   "source": [
    "# Regular\n",
    "# 3\n",
    "regular_3_10 = process_test_case(nx.random_regular_graph, (3, 10))\n",
    "save(regular_3_10, 'regular_3_10')\n",
    "regular_3_20 = process_test_case(nx.random_regular_graph, (3, 20))\n",
    "save(regular_3_20, 'regular_3_20')\n",
    "# 7\n",
    "regular_8_10 = process_test_case(nx.random_regular_graph, (8, 10))\n",
    "save(regular_8_10, 'regular_8_10')\n",
    "regular_8_20 = process_test_case(nx.random_regular_graph, (8, 20))\n",
    "save(regular_8_20, 'regular_8_20')"
   ]
  },
  {
   "cell_type": "code",
   "execution_count": 4,
   "metadata": {
    "ExecuteTime": {
     "end_time": "2020-01-05T02:47:56.794258Z",
     "start_time": "2020-01-05T02:06:10.777415Z"
    },
    "code_folding": [
     0
    ]
   },
   "outputs": [
    {
     "name": "stdout",
     "output_type": "stream",
     "text": [
      "Generating graphs...\n",
      "Finished\n",
      "Brute force...\n",
      "Finished\n",
      "SDP...\n",
      "Finished\n",
      "Generating graphs...\n",
      "Finished\n",
      "Brute force...\n",
      "Finished\n",
      "SDP...\n",
      "Finished\n",
      "Generating graphs...\n",
      "Finished\n",
      "Brute force...\n",
      "Finished\n",
      "SDP...\n",
      "Finished\n",
      "Generating graphs...\n",
      "Finished\n",
      "Brute force...\n",
      "Finished\n",
      "SDP...\n",
      "Finished\n",
      "Generating graphs...\n",
      "Finished\n",
      "Brute force...\n",
      "Finished\n",
      "SDP...\n",
      "Finished\n",
      "Generating graphs...\n",
      "Finished\n",
      "Brute force...\n",
      "Finished\n",
      "SDP...\n",
      "Finished\n"
     ]
    }
   ],
   "source": [
    "# Erdos-Renyi\n",
    "# 1/2\n",
    "er_1_2_10 = process_test_case(nx.gnp_random_graph, (10, 1./2))\n",
    "save(er_1_2_10, 'er_1_2_10')\n",
    "er_1_2_20 = process_test_case(nx.gnp_random_graph, (20, 1./2))\n",
    "save(er_1_2_20, 'er_1_2_20')\n",
    "# 1/4\n",
    "er_1_4_10 = process_test_case(nx.gnp_random_graph, (10, 1./4))\n",
    "save(er_1_4_10, 'er_1_4_10')\n",
    "er_1_4_20 = process_test_case(nx.gnp_random_graph, (20, 1./4))\n",
    "save(er_1_4_20, 'er_1_4_20')\n",
    "# 3/4\n",
    "er_3_4_10 = process_test_case(nx.gnp_random_graph, (10, 3./4))\n",
    "save(er_3_4_10, 'er_3_4_10')\n",
    "er_3_4_20 = process_test_case(nx.gnp_random_graph, (20, 3./4))\n",
    "save(er_3_4_20, 'er_3_4_20')"
   ]
  },
  {
   "cell_type": "code",
   "execution_count": 5,
   "metadata": {
    "ExecuteTime": {
     "end_time": "2020-01-05T03:15:50.694800Z",
     "start_time": "2020-01-05T02:47:56.798839Z"
    },
    "code_folding": [
     0
    ]
   },
   "outputs": [
    {
     "name": "stdout",
     "output_type": "stream",
     "text": [
      "Generating graphs...\n",
      "Finished\n",
      "Brute force...\n",
      "Finished\n",
      "SDP...\n",
      "Finished\n",
      "Generating graphs...\n",
      "Finished\n",
      "Brute force...\n",
      "Finished\n",
      "SDP...\n",
      "Finished\n",
      "Generating graphs...\n",
      "Finished\n",
      "Brute force...\n",
      "Finished\n",
      "SDP...\n",
      "Finished\n",
      "Generating graphs...\n",
      "Finished\n",
      "Brute force...\n",
      "Finished\n",
      "SDP...\n",
      "Finished\n"
     ]
    }
   ],
   "source": [
    "# Barabasi-Albert\n",
    "# 4\n",
    "ba_4_10 = process_test_case(nx.barabasi_albert_graph, (10, 4))\n",
    "save(ba_4_10, 'ba_4_10')\n",
    "ba_4_20 = process_test_case(nx.barabasi_albert_graph, (20, 4))\n",
    "save(ba_4_20, 'ba_4_20')\n",
    "# n / 2\n",
    "ba_n_2_10 = process_test_case(nx.barabasi_albert_graph, (10, 5))\n",
    "save(ba_n_2_10, 'ba_n_2_10')\n",
    "ba_n_2_20 = process_test_case(nx.barabasi_albert_graph, (20, 10))\n",
    "save(ba_n_2_20, 'ba_n_2_20')"
   ]
  },
  {
   "cell_type": "code",
   "execution_count": 6,
   "metadata": {
    "ExecuteTime": {
     "end_time": "2020-01-05T03:44:09.418058Z",
     "start_time": "2020-01-05T03:15:50.703022Z"
    },
    "code_folding": [
     0
    ]
   },
   "outputs": [
    {
     "name": "stdout",
     "output_type": "stream",
     "text": [
      "Generating graphs...\n",
      "Finished\n",
      "Brute force...\n",
      "Finished\n",
      "SDP...\n",
      "Finished\n",
      "Generating graphs...\n",
      "Finished\n",
      "Brute force...\n",
      "Finished\n",
      "SDP...\n",
      "Finished\n",
      "Generating graphs...\n",
      "Finished\n",
      "Brute force...\n",
      "Finished\n",
      "SDP...\n",
      "Finished\n",
      "Generating graphs...\n",
      "Finished\n",
      "Brute force...\n",
      "Finished\n",
      "SDP...\n",
      "Finished\n"
     ]
    }
   ],
   "source": [
    "# Holme and Kim powerlaw\n",
    "# 1/3\n",
    "power_1_3_10 = process_test_case(nx.powerlaw_cluster_graph, (10, 4, 1./3))\n",
    "save(power_1_3_10, 'power_1_3_10')\n",
    "power_1_3_20 = process_test_case(nx.powerlaw_cluster_graph, (20, 4, 1./3))\n",
    "save(power_1_3_10, 'power_1_3_20')\n",
    "# 2/3\n",
    "power_2_3_10 = process_test_case(nx.powerlaw_cluster_graph, (10, 4, 2./3))\n",
    "save(power_2_3_10, 'power_2_3_10')\n",
    "power_2_3_20 = process_test_case(nx.powerlaw_cluster_graph, (20, 4, 2./3))\n",
    "save(power_2_3_20, 'power_2_3_20')"
   ]
  }
 ],
 "metadata": {
  "kernelspec": {
   "display_name": "Python 3",
   "language": "python",
   "name": "python3"
  },
  "language_info": {
   "codemirror_mode": {
    "name": "ipython",
    "version": 3
   },
   "file_extension": ".py",
   "mimetype": "text/x-python",
   "name": "python",
   "nbconvert_exporter": "python",
   "pygments_lexer": "ipython3",
   "version": "3.6.9"
  },
  "toc": {
   "base_numbering": 1,
   "nav_menu": {},
   "number_sections": true,
   "sideBar": true,
   "skip_h1_title": true,
   "title_cell": "Table of Contents",
   "title_sidebar": "Contents",
   "toc_cell": true,
   "toc_position": {},
   "toc_section_display": true,
   "toc_window_display": false
  },
  "varInspector": {
   "cols": {
    "lenName": 16,
    "lenType": 16,
    "lenVar": 40
   },
   "kernels_config": {
    "python": {
     "delete_cmd_postfix": "",
     "delete_cmd_prefix": "del ",
     "library": "var_list.py",
     "varRefreshCmd": "print(var_dic_list())"
    },
    "r": {
     "delete_cmd_postfix": ") ",
     "delete_cmd_prefix": "rm(",
     "library": "var_list.r",
     "varRefreshCmd": "cat(var_dic_list()) "
    }
   },
   "types_to_exclude": [
    "module",
    "function",
    "builtin_function_or_method",
    "instance",
    "_Feature"
   ],
   "window_display": false
  }
 },
 "nbformat": 4,
 "nbformat_minor": 2
}
